{
 "cells": [
  {
   "cell_type": "markdown",
   "id": "75dcffec-df92-43a8-887c-09db900dcf9e",
   "metadata": {},
   "source": [
    "<h1>Data Science Tools and Ecosystem</h1>"
   ]
  },
  {
   "cell_type": "markdown",
   "id": "b98a89a9-d24a-470c-af0d-4d75402ef1c7",
   "metadata": {},
   "source": [
    "In this notebook, Data Science Tools and Ecosystem are summarized."
   ]
  },
  {
   "cell_type": "markdown",
   "id": "3fa32fac-224c-4437-a103-6f85d7222455",
   "metadata": {},
   "source": [
    "<b>Objectives<b/>\n",
    "    <ul>\n",
    "        <li>List popular languages for Data Science</li>\n",
    "        <li>Commonly used libraries used by Data Scientists</li>\n",
    "        <li>Arithmetic expressions in Python</li>\n",
    "    </ul>"
   ]
  },
  {
   "cell_type": "markdown",
   "id": "46260a9b-46b6-49fb-8175-12a831937dd1",
   "metadata": {},
   "source": [
    "Some of the popular languages that Data Scientists use are:\n",
    "1. Python\n",
    "2. R\n",
    "3. Julia"
   ]
  },
  {
   "cell_type": "markdown",
   "id": "bc91d5e8-ee33-49d6-bb16-7527fd97b9a4",
   "metadata": {},
   "source": [
    "Some of the commonly used libraries used by Data Scientists include:\n",
    "1. Panda\n",
    "2. NumPy\n",
    "3. Matplotlib\n"
   ]
  },
  {
   "cell_type": "markdown",
   "id": "e865b019-6c6c-4612-bbce-18b23f2833e1",
   "metadata": {},
   "source": [
    "| Data Science Tools |\n",
    "| :----------------: |\n",
    "| Jupyter Notebook |\n",
    "| RStudio |\n",
    "| Spyder IDE |"
   ]
  },
  {
   "cell_type": "markdown",
   "id": "9b753c20-3124-440f-a16b-5341a1d4dbbe",
   "metadata": {},
   "source": [
    "<h3>Below are a few examples of evaluating arithmetic expressions in Python</h3>"
   ]
  },
  {
   "cell_type": "code",
   "execution_count": 1,
   "id": "e8af7801-788b-4e5a-9104-a788a3b33606",
   "metadata": {},
   "outputs": [
    {
     "data": {
      "text/plain": [
       "17"
      ]
     },
     "execution_count": 1,
     "metadata": {},
     "output_type": "execute_result"
    }
   ],
   "source": [
    "# This a simple arithmetic expression to mutiply then add integers\n",
    "(3*4)+5"
   ]
  },
  {
   "cell_type": "code",
   "execution_count": 2,
   "id": "fa69fd02-4d2f-47d5-b112-aac80d55ab35",
   "metadata": {},
   "outputs": [
    {
     "data": {
      "text/plain": [
       "3.3333333333333335"
      ]
     },
     "execution_count": 2,
     "metadata": {},
     "output_type": "execute_result"
    }
   ],
   "source": [
    "# This will convert 200 minutes to hours by diving by 60\n",
    "200 / 60"
   ]
  },
  {
   "cell_type": "markdown",
   "id": "911f0542-3a54-4408-91ab-9ad1e68cdad1",
   "metadata": {},
   "source": [
    "<h2>Author</h2>\n",
    "Reynaldo Aguirre"
   ]
  },
  {
   "cell_type": "code",
   "execution_count": null,
   "id": "9e2f93c2-245a-4f82-be26-385c96ad0140",
   "metadata": {},
   "outputs": [],
   "source": []
  }
 ],
 "metadata": {
  "kernelspec": {
   "display_name": "Python",
   "language": "python",
   "name": "conda-env-python-py"
  },
  "language_info": {
   "codemirror_mode": {
    "name": "ipython",
    "version": 3
   },
   "file_extension": ".py",
   "mimetype": "text/x-python",
   "name": "python",
   "nbconvert_exporter": "python",
   "pygments_lexer": "ipython3",
   "version": "3.7.12"
  }
 },
 "nbformat": 4,
 "nbformat_minor": 5
}
